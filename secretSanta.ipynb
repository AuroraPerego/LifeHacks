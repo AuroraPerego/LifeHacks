{
  "nbformat": 4,
  "nbformat_minor": 0,
  "metadata": {
    "colab": {
      "name": "secretSanta.ipynb",
      "provenance": []
    },
    "kernelspec": {
      "name": "python3",
      "display_name": "Python 3"
    },
    "language_info": {
      "name": "python"
    }
  },
  "cells": [
    {
      "cell_type": "code",
      "metadata": {
        "id": "kEbYgWaFNZTp"
      },
      "source": [
        "import numpy as np\n",
        "import random\n",
        "\n",
        "def check (senders, receivers):\n",
        "  for i in range(len(senders)):\n",
        "    if receivers[i] == senders[i]:\n",
        "      return False\n",
        "  return True"
      ],
      "execution_count": null,
      "outputs": []
    },
    {
      "cell_type": "code",
      "metadata": {
        "colab": {
          "base_uri": "https://localhost:8080/"
        },
        "id": "EyQ2jJ-V2R5m",
        "outputId": "07dde107-085b-4cee-a192-d09119427cb3"
      },
      "source": [
        "receivers = [\"andre\", \"borghe\", \"saraC\"]#, \"roby\", \"auri\", \"ste\", \"giuli\"] #receivers\n",
        "senders = [\"andre\", \"borghe\", \"saraC\"]#, \"roby\", \"auri\", \"ste\", \"giuli\"] #senders\n",
        "\n",
        "print (receivers)\n",
        "print (senders)"
      ],
      "execution_count": null,
      "outputs": [
        {
          "output_type": "stream",
          "name": "stdout",
          "text": [
            "['andre', 'borghe', 'saraC']\n",
            "['andre', 'borghe', 'saraC']\n"
          ]
        }
      ]
    },
    {
      "cell_type": "code",
      "metadata": {
        "colab": {
          "base_uri": "https://localhost:8080/",
          "height": 235
        },
        "id": "RAwqvDexOqhB",
        "outputId": "ace50872-fe51-4714-99a2-791eddf1dbef"
      },
      "source": [
        "while check(senders, receivers) == False:\n",
        "  random.shuffle(receivers)\n",
        "\n",
        "print (receivers)\n",
        "print (senders)"
      ],
      "execution_count": null,
      "outputs": [
        {
          "output_type": "error",
          "ename": "NameError",
          "evalue": "ignored",
          "traceback": [
            "\u001b[0;31m---------------------------------------------------------------------------\u001b[0m",
            "\u001b[0;31mNameError\u001b[0m                                 Traceback (most recent call last)",
            "\u001b[0;32m<ipython-input-1-f7015ce4e4d1>\u001b[0m in \u001b[0;36m<module>\u001b[0;34m()\u001b[0m\n\u001b[0;32m----> 1\u001b[0;31m \u001b[0;32mwhile\u001b[0m \u001b[0mcheck\u001b[0m\u001b[0;34m(\u001b[0m\u001b[0msenders\u001b[0m\u001b[0;34m,\u001b[0m \u001b[0mreceivers\u001b[0m\u001b[0;34m)\u001b[0m \u001b[0;34m==\u001b[0m \u001b[0;32mFalse\u001b[0m\u001b[0;34m:\u001b[0m\u001b[0;34m\u001b[0m\u001b[0;34m\u001b[0m\u001b[0m\n\u001b[0m\u001b[1;32m      2\u001b[0m   \u001b[0mrandom\u001b[0m\u001b[0;34m.\u001b[0m\u001b[0mshuffle\u001b[0m\u001b[0;34m(\u001b[0m\u001b[0mreceivers\u001b[0m\u001b[0;34m)\u001b[0m\u001b[0;34m\u001b[0m\u001b[0;34m\u001b[0m\u001b[0m\n\u001b[1;32m      3\u001b[0m \u001b[0;34m\u001b[0m\u001b[0m\n\u001b[1;32m      4\u001b[0m \u001b[0mprint\u001b[0m \u001b[0;34m(\u001b[0m\u001b[0mreceivers\u001b[0m\u001b[0;34m)\u001b[0m\u001b[0;34m\u001b[0m\u001b[0;34m\u001b[0m\u001b[0m\n\u001b[1;32m      5\u001b[0m \u001b[0mprint\u001b[0m \u001b[0;34m(\u001b[0m\u001b[0msenders\u001b[0m\u001b[0;34m)\u001b[0m\u001b[0;34m\u001b[0m\u001b[0;34m\u001b[0m\u001b[0m\n",
            "\u001b[0;31mNameError\u001b[0m: name 'check' is not defined"
          ]
        }
      ]
    },
    {
      "cell_type": "code",
      "metadata": {
        "colab": {
          "base_uri": "https://localhost:8080/"
        },
        "id": "GhabC186t-3j",
        "outputId": "0efcb158-8383-48dd-b996-885f6fef472a"
      },
      "source": [
        "import smtplib\n",
        "from email.message import EmailMessage\n",
        "server = smtplib.SMTP_SSL('smtp.gmail.com', 465)\n",
        "server.login(\"bla@gmail.com\", \"bla\")\n",
        "\n",
        "for i in range(len(senders)):\n",
        "  msg = EmailMessage()\n",
        "  msg.set_content(\"Ciao \"+senders[i]+\",\\nDovrai fare il regalo per \"+receivers[i]+\".\\nBuon Natale con largo anticipo, e non ridurti all'ultimo!\\n\\nBabbo Secret Natale Santa\")\n",
        "  msg['Subject'] = 'secret santa :) '\n",
        "  msg['From'] = \"bla@gmail.com\"\n",
        "  msg['To'] = mails[i]\n",
        "  server.send_message(msg)\n",
        "\n",
        "server.quit()"
      ],
      "execution_count": null,
      "outputs": [
        {
          "output_type": "execute_result",
          "data": {
            "text/plain": [
              "(221, b'2.0.0 closing connection s6sm7629654qtc.45 - gsmtp')"
            ]
          },
          "metadata": {},
          "execution_count": 50
        }
      ]
    }
  ]
}
